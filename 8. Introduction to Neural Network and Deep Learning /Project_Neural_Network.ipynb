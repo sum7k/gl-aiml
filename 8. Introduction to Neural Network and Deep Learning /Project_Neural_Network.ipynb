{
 "cells": [
  {
   "cell_type": "code",
   "execution_count": 1,
   "metadata": {
    "colab": {},
    "colab_type": "code",
    "id": "ZnWhcIhZUDDK"
   },
   "outputs": [],
   "source": [
    "import h5py\n",
    "from google.colab import drive\n",
    "import matplotlib.pyplot as plt\n",
    "from tensorflow.keras.utils import to_categorical\n",
    "import tensorflow as tf"
   ]
  },
  {
   "cell_type": "code",
   "execution_count": 3,
   "metadata": {
    "colab": {
     "base_uri": "https://localhost:8080/",
     "height": 51
    },
    "colab_type": "code",
    "id": "T_hSwQgFUMNu",
    "outputId": "c0994308-a31d-4724-f456-30cb46308d32"
   },
   "outputs": [
    {
     "name": "stdout",
     "output_type": "stream",
     "text": [
      "Drive already mounted at /content/drive; to attempt to forcibly remount, call drive.mount(\"/content/drive\", force_remount=True).\n"
     ]
    },
    {
     "data": {
      "text/plain": [
       "<KeysViewHDF5 ['X_test', 'X_train', 'X_val', 'y_test', 'y_train', 'y_val']>"
      ]
     },
     "execution_count": 3,
     "metadata": {
      "tags": []
     },
     "output_type": "execute_result"
    }
   ],
   "source": [
    "drive.mount('/content/drive')\n",
    "h5f = h5py.File('/content/drive/My Drive/Colab Notebooks/SVHN_single_grey1.h5', 'r')\n",
    "h5f.keys()"
   ]
  },
  {
   "cell_type": "code",
   "execution_count": 4,
   "metadata": {
    "colab": {},
    "colab_type": "code",
    "id": "YdsaPb-wGbPu"
   },
   "outputs": [],
   "source": [
    "X_train = h5f['X_train'][:]\n",
    "X_test = h5f['X_test'][:]\n",
    "y_train = h5f['y_train'][:]\n",
    "y_test = h5f['y_test'][:]"
   ]
  },
  {
   "cell_type": "code",
   "execution_count": 5,
   "metadata": {
    "colab": {
     "base_uri": "https://localhost:8080/",
     "height": 85
    },
    "colab_type": "code",
    "id": "foF08KUvHsT6",
    "outputId": "70a633f2-b4ed-426f-b6a0-4250d6b9806f"
   },
   "outputs": [
    {
     "name": "stdout",
     "output_type": "stream",
     "text": [
      "(42000, 32, 32)\n",
      "(18000, 32, 32)\n",
      "(42000,)\n",
      "(18000,)\n"
     ]
    }
   ],
   "source": [
    "print(X_train.shape)\n",
    "print(X_test.shape)\n",
    "print(y_train.shape)\n",
    "print(y_test.shape)"
   ]
  },
  {
   "cell_type": "code",
   "execution_count": 6,
   "metadata": {
    "colab": {
     "base_uri": "https://localhost:8080/",
     "height": 283
    },
    "colab_type": "code",
    "id": "ThbqhA28Hz0j",
    "outputId": "08599196-6ec9-4421-e282-fc6c218ad747"
   },
   "outputs": [
    {
     "data": {
      "text/plain": [
       "<matplotlib.image.AxesImage at 0x7f1d2cbc4eb8>"
      ]
     },
     "execution_count": 6,
     "metadata": {
      "tags": []
     },
     "output_type": "execute_result"
    },
    {
     "data": {
      "image/png": "[encoded data removed]",
      "text/plain": [
       "<Figure size 432x288 with 1 Axes>"
      ]
     },
     "metadata": {
      "needs_background": "light",
      "tags": []
     },
     "output_type": "display_data"
    }
   ],
   "source": [
    "plt.imshow(X_train[0,:,:], cmap = 'gray')"
   ]
  },
  {
   "cell_type": "code",
   "execution_count": 7,
   "metadata": {
    "colab": {
     "base_uri": "https://localhost:8080/",
     "height": 34
    },
    "colab_type": "code",
    "id": "NYN2mw2MJNTB",
    "outputId": "e9cd3e80-5146-4458-afc5-93bc2d907bec"
   },
   "outputs": [
    {
     "data": {
      "text/plain": [
       "2"
      ]
     },
     "execution_count": 7,
     "metadata": {
      "tags": []
     },
     "output_type": "execute_result"
    }
   ],
   "source": [
    "y_train[0]"
   ]
  },
  {
   "cell_type": "code",
   "execution_count": 8,
   "metadata": {
    "colab": {
     "base_uri": "https://localhost:8080/",
     "height": 283
    },
    "colab_type": "code",
    "id": "WmXB3TI1JSGo",
    "outputId": "613b9f6b-a04c-4a30-8f50-c1535ced50bc"
   },
   "outputs": [
    {
     "data": {
      "text/plain": [
       "<matplotlib.image.AxesImage at 0x7f1d2c69bd30>"
      ]
     },
     "execution_count": 8,
     "metadata": {
      "tags": []
     },
     "output_type": "execute_result"
    },
    {
     "data": {
      "image/png": "[encoded data removed]",
      "text/plain": [
       "<Figure size 432x288 with 1 Axes>"
      ]
     },
     "metadata": {
      "needs_background": "light",
      "tags": []
     },
     "output_type": "display_data"
    }
   ],
   "source": [
    "plt.imshow(X_train[100,:,:], cmap='gray')"
   ]
  },
  {
   "cell_type": "code",
   "execution_count": 9,
   "metadata": {
    "colab": {
     "base_uri": "https://localhost:8080/",
     "height": 34
    },
    "colab_type": "code",
    "id": "-fktaPXyJWwY",
    "outputId": "1df43fe4-c739-4dd9-f73a-95aaa69f217e"
   },
   "outputs": [
    {
     "data": {
      "text/plain": [
       "0"
      ]
     },
     "execution_count": 9,
     "metadata": {
      "tags": []
     },
     "output_type": "execute_result"
    }
   ],
   "source": [
    "y_train[100]"
   ]
  },
  {
   "cell_type": "code",
   "execution_count": 10,
   "metadata": {
    "colab": {
     "base_uri": "https://localhost:8080/",
     "height": 283
    },
    "colab_type": "code",
    "id": "xysKxZoxJhAf",
    "outputId": "3c426529-0ae4-417a-b15a-22a0311ca664"
   },
   "outputs": [
    {
     "data": {
      "text/plain": [
       "<matplotlib.image.AxesImage at 0x7f1d2c60a978>"
      ]
     },
     "execution_count": 10,
     "metadata": {
      "tags": []
     },
     "output_type": "execute_result"
    },
    {
     "data": {
      "image/png": "[encoded data removed]",
      "text/plain": [
       "<Figure size 432x288 with 1 Axes>"
      ]
     },
     "metadata": {
      "needs_background": "light",
      "tags": []
     },
     "output_type": "display_data"
    }
   ],
   "source": [
    "plt.imshow(X_train[1000,:,:], cmap='gray')"
   ]
  },
  {
   "cell_type": "code",
   "execution_count": 11,
   "metadata": {
    "colab": {
     "base_uri": "https://localhost:8080/",
     "height": 34
    },
    "colab_type": "code",
    "id": "IDcUyCSNJotv",
    "outputId": "83ddb3ff-336d-4180-cc42-4a084d06ce5f"
   },
   "outputs": [
    {
     "data": {
      "text/plain": [
       "6"
      ]
     },
     "execution_count": 11,
     "metadata": {
      "tags": []
     },
     "output_type": "execute_result"
    }
   ],
   "source": [
    "y_train[1000]"
   ]
  },
  {
   "cell_type": "code",
   "execution_count": 12,
   "metadata": {
    "colab": {
     "base_uri": "https://localhost:8080/",
     "height": 51
    },
    "colab_type": "code",
    "id": "zAFC2rVXKznj",
    "outputId": "ec68ed3c-ee54-4412-f1a9-47c8c08a8108"
   },
   "outputs": [
    {
     "name": "stdout",
     "output_type": "stream",
     "text": [
      "9 0\n",
      "9 0\n"
     ]
    }
   ],
   "source": [
    "print(max(y_train), min(y_train))\n",
    "print(max(y_test), min(y_test))"
   ]
  },
  {
   "cell_type": "code",
   "execution_count": 13,
   "metadata": {
    "colab": {},
    "colab_type": "code",
    "id": "Hyg-G0PPJuAv"
   },
   "outputs": [],
   "source": [
    "X_train = X_train.reshape([42000, 32*32])\n",
    "X_test = X_test.reshape([18000, 32*32])\n",
    "y_train = to_categorical(y_train, 10)\n",
    "y_test = to_categorical(y_test, 10)"
   ]
  },
  {
   "cell_type": "code",
   "execution_count": 14,
   "metadata": {
    "colab": {
     "base_uri": "https://localhost:8080/",
     "height": 68
    },
    "colab_type": "code",
    "id": "62II2j2rJ7_f",
    "outputId": "d00b2241-72fb-46d8-e6a4-25ef99df2cbf"
   },
   "outputs": [
    {
     "name": "stdout",
     "output_type": "stream",
     "text": [
      "[0. 0. 1. 0. 0. 0. 0. 0. 0. 0.]\n",
      "[1. 0. 0. 0. 0. 0. 0. 0. 0. 0.]\n",
      "[0. 0. 0. 0. 0. 0. 1. 0. 0. 0.]\n"
     ]
    }
   ],
   "source": [
    "print(y_train[0])\n",
    "print(y_train[100])\n",
    "print(y_train[1000])"
   ]
  },
  {
   "cell_type": "code",
   "execution_count": 15,
   "metadata": {
    "colab": {},
    "colab_type": "code",
    "id": "AKKHEf6fLKMK"
   },
   "outputs": [],
   "source": [
    "X_train = X_train.astype(float)\n",
    "X_test = X_test.astype(float)\n",
    "X_train = X_train/255\n",
    "X_test = X_test/255"
   ]
  },
  {
   "cell_type": "code",
   "execution_count": 19,
   "metadata": {
    "colab": {},
    "colab_type": "code",
    "id": "rROWur6ZMFmZ"
   },
   "outputs": [],
   "source": [
    "model = tf.keras.Sequential()\n",
    "model.add(tf.keras.layers.Input(shape = (1024,)))\n",
    "model.add(tf.keras.layers.Dense(512, activation = 'relu'))\n",
    "model.add(tf.keras.layers.Dense(256, activation = 'relu'))\n",
    "model.add(tf.keras.layers.Dense(128, activation = 'relu'))\n",
    "model.add(tf.keras.layers.Dense(10, activation = 'softmax'))\n",
    "model.compile(loss='categorical_crossentropy', optimizer='adam', metrics=['accuracy'])"
   ]
  },
  {
   "cell_type": "code",
   "execution_count": 22,
   "metadata": {
    "colab": {
     "base_uri": "https://localhost:8080/",
     "height": 1000
    },
    "colab_type": "code",
    "id": "vZvP75qUM2aX",
    "outputId": "ae4e3ebd-035c-4de0-b707-66414579113e"
   },
   "outputs": [
    {
     "name": "stdout",
     "output_type": "stream",
     "text": [
      "Epoch 1/100\n",
      "1313/1313 [==============================] - 4s 3ms/step - loss: 1.3704 - accuracy: 0.5454\n",
      "Epoch 2/100\n",
      "1313/1313 [==============================] - 4s 3ms/step - loss: 1.3707 - accuracy: 0.5443\n",
      "Epoch 3/100\n",
      "1313/1313 [==============================] - 4s 3ms/step - loss: 1.3706 - accuracy: 0.5427\n",
      "Epoch 4/100\n",
      "1313/1313 [==============================] - 4s 3ms/step - loss: 1.3699 - accuracy: 0.5445\n",
      "Epoch 5/100\n",
      "1313/1313 [==============================] - 4s 3ms/step - loss: 1.3675 - accuracy: 0.5448\n",
      "Epoch 6/100\n",
      "1313/1313 [==============================] - 4s 3ms/step - loss: 1.3736 - accuracy: 0.5450\n",
      "Epoch 7/100\n",
      "1313/1313 [==============================] - 4s 3ms/step - loss: 1.3683 - accuracy: 0.5472\n",
      "Epoch 8/100\n",
      "1313/1313 [==============================] - 4s 3ms/step - loss: 1.3681 - accuracy: 0.5452\n",
      "Epoch 9/100\n",
      "1313/1313 [==============================] - 4s 3ms/step - loss: 1.3675 - accuracy: 0.5471\n",
      "Epoch 10/100\n",
      "1313/1313 [==============================] - 6s 4ms/step - loss: 1.3687 - accuracy: 0.5452\n",
      "Epoch 11/100\n",
      "1313/1313 [==============================] - 6s 5ms/step - loss: 1.3672 - accuracy: 0.5455\n",
      "Epoch 12/100\n",
      "1313/1313 [==============================] - 4s 3ms/step - loss: 1.3713 - accuracy: 0.5428\n",
      "Epoch 13/100\n",
      "1313/1313 [==============================] - 4s 3ms/step - loss: 1.3684 - accuracy: 0.5428\n",
      "Epoch 14/100\n",
      "1313/1313 [==============================] - 4s 3ms/step - loss: 1.3656 - accuracy: 0.5464\n",
      "Epoch 15/100\n",
      "1313/1313 [==============================] - 4s 3ms/step - loss: 1.3651 - accuracy: 0.5482\n",
      "Epoch 16/100\n",
      "1313/1313 [==============================] - 4s 3ms/step - loss: 1.3675 - accuracy: 0.5445\n",
      "Epoch 17/100\n",
      "1313/1313 [==============================] - 4s 3ms/step - loss: 1.3647 - accuracy: 0.5468\n",
      "Epoch 18/100\n",
      "1313/1313 [==============================] - 4s 3ms/step - loss: 1.3667 - accuracy: 0.5456\n",
      "Epoch 19/100\n",
      "1313/1313 [==============================] - 4s 3ms/step - loss: 1.3605 - accuracy: 0.5489\n",
      "Epoch 20/100\n",
      "1313/1313 [==============================] - 4s 3ms/step - loss: 1.3638 - accuracy: 0.5466\n",
      "Epoch 21/100\n",
      "1313/1313 [==============================] - 4s 3ms/step - loss: 1.3633 - accuracy: 0.5494\n",
      "Epoch 22/100\n",
      "1313/1313 [==============================] - 4s 3ms/step - loss: 1.3660 - accuracy: 0.5471\n",
      "Epoch 23/100\n",
      "1313/1313 [==============================] - 4s 3ms/step - loss: 1.3627 - accuracy: 0.5469\n",
      "Epoch 24/100\n",
      "1313/1313 [==============================] - 4s 3ms/step - loss: 1.3614 - accuracy: 0.5502\n",
      "Epoch 25/100\n",
      "1313/1313 [==============================] - 4s 3ms/step - loss: 1.3653 - accuracy: 0.5458\n",
      "Epoch 26/100\n",
      "1313/1313 [==============================] - 4s 3ms/step - loss: 1.3626 - accuracy: 0.5485\n",
      "Epoch 27/100\n",
      "1313/1313 [==============================] - 4s 3ms/step - loss: 1.3652 - accuracy: 0.5467\n",
      "Epoch 28/100\n",
      "1313/1313 [==============================] - 4s 3ms/step - loss: 1.3619 - accuracy: 0.5465\n",
      "Epoch 29/100\n",
      "1313/1313 [==============================] - 4s 3ms/step - loss: 1.3594 - accuracy: 0.5480\n",
      "Epoch 30/100\n",
      "1313/1313 [==============================] - 4s 3ms/step - loss: 1.3671 - accuracy: 0.5460\n",
      "Epoch 31/100\n",
      "1313/1313 [==============================] - 4s 3ms/step - loss: 1.3634 - accuracy: 0.5456\n",
      "Epoch 32/100\n",
      "1313/1313 [==============================] - 4s 3ms/step - loss: 1.3608 - accuracy: 0.5480\n",
      "Epoch 33/100\n",
      "1313/1313 [==============================] - 4s 3ms/step - loss: 1.3642 - accuracy: 0.5470\n",
      "Epoch 34/100\n",
      "1313/1313 [==============================] - 4s 3ms/step - loss: 1.3672 - accuracy: 0.5475\n",
      "Epoch 35/100\n",
      "1313/1313 [==============================] - 4s 3ms/step - loss: 1.3595 - accuracy: 0.5485\n",
      "Epoch 36/100\n",
      "1313/1313 [==============================] - 4s 3ms/step - loss: 1.3659 - accuracy: 0.5442\n",
      "Epoch 37/100\n",
      "1313/1313 [==============================] - 5s 4ms/step - loss: 1.3636 - accuracy: 0.5461\n",
      "Epoch 38/100\n",
      "1313/1313 [==============================] - 5s 4ms/step - loss: 1.3645 - accuracy: 0.5460\n",
      "Epoch 39/100\n",
      "1313/1313 [==============================] - 4s 3ms/step - loss: 1.3604 - accuracy: 0.5467\n",
      "Epoch 40/100\n",
      "1313/1313 [==============================] - 4s 3ms/step - loss: 1.3598 - accuracy: 0.5487\n",
      "Epoch 41/100\n",
      "1313/1313 [==============================] - 4s 3ms/step - loss: 1.3635 - accuracy: 0.5476\n",
      "Epoch 42/100\n",
      "1313/1313 [==============================] - 4s 3ms/step - loss: 1.3632 - accuracy: 0.5476\n",
      "Epoch 43/100\n",
      "1313/1313 [==============================] - 4s 3ms/step - loss: 1.3634 - accuracy: 0.5460\n",
      "Epoch 44/100\n",
      "1313/1313 [==============================] - 4s 3ms/step - loss: 1.3604 - accuracy: 0.5470\n",
      "Epoch 45/100\n",
      "1313/1313 [==============================] - 4s 3ms/step - loss: 1.3605 - accuracy: 0.5481\n",
      "Epoch 46/100\n",
      "1313/1313 [==============================] - 4s 3ms/step - loss: 1.3616 - accuracy: 0.5475\n",
      "Epoch 47/100\n",
      "1313/1313 [==============================] - 4s 3ms/step - loss: 1.3587 - accuracy: 0.5485\n",
      "Epoch 48/100\n",
      "1313/1313 [==============================] - 4s 3ms/step - loss: 1.3554 - accuracy: 0.5487\n",
      "Epoch 49/100\n",
      "1313/1313 [==============================] - 4s 3ms/step - loss: 1.3565 - accuracy: 0.5523\n",
      "Epoch 50/100\n",
      "1313/1313 [==============================] - 4s 3ms/step - loss: 1.3633 - accuracy: 0.5481\n",
      "Epoch 51/100\n",
      "1313/1313 [==============================] - 4s 3ms/step - loss: 1.3585 - accuracy: 0.5499\n",
      "Epoch 52/100\n",
      "1313/1313 [==============================] - 4s 3ms/step - loss: 1.3606 - accuracy: 0.5479\n",
      "Epoch 53/100\n",
      "1313/1313 [==============================] - 4s 3ms/step - loss: 1.3613 - accuracy: 0.5483\n",
      "Epoch 54/100\n",
      "1313/1313 [==============================] - 4s 3ms/step - loss: 1.3618 - accuracy: 0.5475\n",
      "Epoch 55/100\n",
      "1313/1313 [==============================] - 4s 3ms/step - loss: 1.3602 - accuracy: 0.5478\n",
      "Epoch 56/100\n",
      "1313/1313 [==============================] - 4s 3ms/step - loss: 1.3596 - accuracy: 0.5478\n",
      "Epoch 57/100\n",
      "1313/1313 [==============================] - 4s 3ms/step - loss: 1.3589 - accuracy: 0.5497\n",
      "Epoch 58/100\n",
      "1313/1313 [==============================] - 4s 3ms/step - loss: 1.3606 - accuracy: 0.5490\n",
      "Epoch 59/100\n",
      "1313/1313 [==============================] - 4s 3ms/step - loss: 1.3526 - accuracy: 0.5523\n",
      "Epoch 60/100\n",
      "1313/1313 [==============================] - 4s 3ms/step - loss: 1.3597 - accuracy: 0.5485\n",
      "Epoch 61/100\n",
      "1313/1313 [==============================] - 4s 3ms/step - loss: 1.3550 - accuracy: 0.5504\n",
      "Epoch 62/100\n",
      "1313/1313 [==============================] - 4s 3ms/step - loss: 1.3586 - accuracy: 0.5489\n",
      "Epoch 63/100\n",
      "1313/1313 [==============================] - 4s 3ms/step - loss: 1.3597 - accuracy: 0.5468\n",
      "Epoch 64/100\n",
      "1313/1313 [==============================] - 4s 3ms/step - loss: 1.3589 - accuracy: 0.5499\n",
      "Epoch 65/100\n",
      "1313/1313 [==============================] - 4s 3ms/step - loss: 1.3584 - accuracy: 0.5511\n",
      "Epoch 66/100\n",
      "1313/1313 [==============================] - 4s 3ms/step - loss: 1.3566 - accuracy: 0.5509\n",
      "Epoch 67/100\n",
      "1313/1313 [==============================] - 4s 3ms/step - loss: 1.3559 - accuracy: 0.5515\n",
      "Epoch 68/100\n",
      "1313/1313 [==============================] - 4s 3ms/step - loss: 1.3570 - accuracy: 0.5504\n",
      "Epoch 69/100\n",
      "1313/1313 [==============================] - 4s 3ms/step - loss: 1.3594 - accuracy: 0.5493\n",
      "Epoch 70/100\n",
      "1313/1313 [==============================] - 4s 3ms/step - loss: 1.3551 - accuracy: 0.5491\n",
      "Epoch 71/100\n",
      "1313/1313 [==============================] - 4s 3ms/step - loss: 1.3596 - accuracy: 0.5481\n",
      "Epoch 72/100\n",
      "1313/1313 [==============================] - 4s 3ms/step - loss: 1.3527 - accuracy: 0.5519\n",
      "Epoch 73/100\n",
      "1313/1313 [==============================] - 4s 3ms/step - loss: 1.3539 - accuracy: 0.5516\n",
      "Epoch 74/100\n",
      "1313/1313 [==============================] - 4s 3ms/step - loss: 1.3566 - accuracy: 0.5490\n",
      "Epoch 75/100\n",
      "1313/1313 [==============================] - 4s 3ms/step - loss: 1.3588 - accuracy: 0.5490\n",
      "Epoch 76/100\n",
      "1313/1313 [==============================] - 4s 3ms/step - loss: 1.3579 - accuracy: 0.5489\n",
      "Epoch 77/100\n",
      "1313/1313 [==============================] - 4s 3ms/step - loss: 1.3538 - accuracy: 0.5511\n",
      "Epoch 78/100\n",
      "1313/1313 [==============================] - 4s 3ms/step - loss: 1.3552 - accuracy: 0.5509\n",
      "Epoch 79/100\n",
      "1313/1313 [==============================] - 4s 3ms/step - loss: 1.3554 - accuracy: 0.5488\n",
      "Epoch 80/100\n",
      "1313/1313 [==============================] - 4s 3ms/step - loss: 1.3595 - accuracy: 0.5461\n",
      "Epoch 81/100\n",
      "1313/1313 [==============================] - 4s 3ms/step - loss: 1.3542 - accuracy: 0.5517\n",
      "Epoch 82/100\n",
      "1313/1313 [==============================] - 4s 3ms/step - loss: 1.3548 - accuracy: 0.5505\n",
      "Epoch 83/100\n",
      "1313/1313 [==============================] - 4s 3ms/step - loss: 1.3570 - accuracy: 0.5508\n",
      "Epoch 84/100\n",
      "1313/1313 [==============================] - 4s 3ms/step - loss: 1.3560 - accuracy: 0.5503\n",
      "Epoch 85/100\n",
      "1313/1313 [==============================] - 4s 3ms/step - loss: 1.3537 - accuracy: 0.5507\n",
      "Epoch 86/100\n",
      "1313/1313 [==============================] - 4s 3ms/step - loss: 1.3569 - accuracy: 0.5488\n",
      "Epoch 87/100\n",
      "1313/1313 [==============================] - 5s 4ms/step - loss: 1.3590 - accuracy: 0.5489\n",
      "Epoch 88/100\n",
      "1313/1313 [==============================] - 5s 3ms/step - loss: 1.3524 - accuracy: 0.5500\n",
      "Epoch 89/100\n",
      "1313/1313 [==============================] - 4s 3ms/step - loss: 1.3558 - accuracy: 0.5501\n",
      "Epoch 90/100\n",
      "1313/1313 [==============================] - 4s 3ms/step - loss: 1.3529 - accuracy: 0.5499\n",
      "Epoch 91/100\n",
      "1313/1313 [==============================] - 5s 3ms/step - loss: 1.3553 - accuracy: 0.5508\n",
      "Epoch 92/100\n",
      "1313/1313 [==============================] - 5s 4ms/step - loss: 1.3486 - accuracy: 0.5544\n",
      "Epoch 93/100\n",
      "1313/1313 [==============================] - 5s 3ms/step - loss: 1.3512 - accuracy: 0.5502\n",
      "Epoch 94/100\n",
      "1313/1313 [==============================] - 4s 3ms/step - loss: 1.3551 - accuracy: 0.5502\n",
      "Epoch 95/100\n",
      "1313/1313 [==============================] - 4s 3ms/step - loss: 1.3587 - accuracy: 0.5479\n",
      "Epoch 96/100\n",
      "1313/1313 [==============================] - 4s 3ms/step - loss: 1.3522 - accuracy: 0.5503\n",
      "Epoch 97/100\n",
      "1313/1313 [==============================] - 4s 3ms/step - loss: 1.3527 - accuracy: 0.5518\n",
      "Epoch 98/100\n",
      "1313/1313 [==============================] - 4s 3ms/step - loss: 1.3515 - accuracy: 0.5510\n",
      "Epoch 99/100\n",
      "1313/1313 [==============================] - 4s 3ms/step - loss: 1.3547 - accuracy: 0.5510\n",
      "Epoch 100/100\n",
      "1313/1313 [==============================] - 4s 3ms/step - loss: 1.3553 - accuracy: 0.5498\n"
     ]
    },
    {
     "data": {
      "text/plain": [
       "<tensorflow.python.keras.callbacks.History at 0x7f1d20e88780>"
      ]
     },
     "execution_count": 22,
     "metadata": {
      "tags": []
     },
     "output_type": "execute_result"
    }
   ],
   "source": [
    "model.fit(X_train, y_train, batch_size=32, epochs=100, verbose=1)"
   ]
  },
  {
   "cell_type": "code",
   "execution_count": 23,
   "metadata": {
    "colab": {
     "base_uri": "https://localhost:8080/",
     "height": 51
    },
    "colab_type": "code",
    "id": "xyEMhcfEOeQ7",
    "outputId": "b5160e8c-67c8-4d7a-b8dc-b305aea5f6f4"
   },
   "outputs": [
    {
     "name": "stdout",
     "output_type": "stream",
     "text": [
      "563/563 [==============================] - 1s 2ms/step - loss: 1.3813 - accuracy: 0.5404\n"
     ]
    },
    {
     "data": {
      "text/plain": [
       "[1.381345510482788, 0.5404444336891174]"
      ]
     },
     "execution_count": 23,
     "metadata": {
      "tags": []
     },
     "output_type": "execute_result"
    }
   ],
   "source": [
    "model.evaluate(X_test, y_test, verbose=1)"
   ]
  },
  {
   "cell_type": "code",
   "execution_count": 18,
   "metadata": {
    "colab": {},
    "colab_type": "code",
    "id": "R161htWnPa4T"
   },
   "outputs": [],
   "source": []
  }
 ],
 "metadata": {
  "colab": {
   "name": "Project_Neural_Network.ipynb",
   "provenance": []
  },
  "kernelspec": {
   "display_name": "Python 3",
   "language": "python",
   "name": "python3"
  },
  "language_info": {
   "codemirror_mode": {
    "name": "ipython",
    "version": 3
   },
   "file_extension": ".py",
   "mimetype": "text/x-python",
   "name": "python",
   "nbconvert_exporter": "python",
   "pygments_lexer": "ipython3",
   "version": "3.7.4"
  }
 },
 "nbformat": 4,
 "nbformat_minor": 1
}
