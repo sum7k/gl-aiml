{
  "nbformat": 4,
  "nbformat_minor": 0,
  "metadata": {
    "colab": {
      "name": "VGG16.ipynb",
      "provenance": [],
      "collapsed_sections": []
    },
    "kernelspec": {
      "name": "python3",
      "display_name": "Python 3"
    }
  },
  "cells": [
    {
      "cell_type": "code",
      "metadata": {
        "colab": {
          "base_uri": "https://localhost:8080/"
        },
        "id": "0rkQ2XQ5vfZC",
        "outputId": "e76f3030-dd47-413b-a1b7-6c14c70914f2"
      },
      "source": [
        "!pip install pydicom"
      ],
      "execution_count": 5,
      "outputs": [
        {
          "output_type": "stream",
          "text": [
            "Requirement already satisfied: pydicom in /usr/local/lib/python3.6/dist-packages (2.1.2)\n"
          ],
          "name": "stdout"
        }
      ]
    },
    {
      "cell_type": "code",
      "metadata": {
        "id": "77DWqHlRwGSa"
      },
      "source": [
        "import os \r\n",
        "import sys\r\n",
        "\r\n",
        "import random\r\n",
        "import math\r\n",
        "import numpy as np\r\n",
        "import cv2\r\n",
        "import matplotlib.pyplot as plt\r\n",
        "import json\r\n",
        "import pydicom\r\n",
        "from imgaug import augmenters as iaa\r\n",
        "from tqdm import tqdm\r\n",
        "import pandas as pd \r\n",
        "import glob \r\n"
      ],
      "execution_count": 27,
      "outputs": []
    },
    {
      "cell_type": "code",
      "metadata": {
        "id": "6_suZHgewIdI"
      },
      "source": [
        "IMAGE_SIZE = 1024\r\n",
        "TRAIN_DATA_DIR = '/content/drive/MyDrive/CapstoneProject/data/rsna-pneumonia-detection-challenge/stage_2_train_images'\r\n",
        "TEST_DATA_DIR = '/content/drive/MyDrive/CapstoneProject/data/rsna-pneumonia-detection-challenge/stage_2_test_images'\r\n",
        "LABEL_DIR = '/content/drive/MyDrive/CapstoneProject/data/rsna-pneumonia-detection-challenge/stage_2_train_labels.csv'"
      ],
      "execution_count": 28,
      "outputs": []
    },
    {
      "cell_type": "code",
      "metadata": {
        "id": "uXiVhCQAxCR8"
      },
      "source": [
        "def get_file_list(dir):\r\n",
        "  file_list = [f for f in  os.listdir(dir)]\r\n",
        "  return list(set(file_list))\r\n",
        "\r\n",
        "def parse_dataset(dicom_dir, labels): \r\n",
        "    image_fps = get_file_list(dicom_dir)\r\n",
        "    image_annotations = {fp: [] for fp in image_fps}\r\n",
        "    for index, row in labels.iterrows(): \r\n",
        "        fp =row['patientId']+'.dcm'\r\n",
        "        image_annotations[fp].append(row)\r\n",
        "    return image_fps, image_annotations "
      ],
      "execution_count": 29,
      "outputs": []
    },
    {
      "cell_type": "code",
      "metadata": {
        "colab": {
          "base_uri": "https://localhost:8080/",
          "height": 204
        },
        "id": "0rguox9uyBBV",
        "outputId": "2c71e04f-74f8-4070-e7ce-281201e04eff"
      },
      "source": [
        "# training dataset\r\n",
        "annotations = pd.read_csv('/content/drive/MyDrive/CapstoneProject/data/rsna-pneumonia-detection-challenge/stage_2_train_labels.csv')\r\n",
        "annotations.head()"
      ],
      "execution_count": 30,
      "outputs": [
        {
          "output_type": "execute_result",
          "data": {
            "text/html": [
              "<div>\n",
              "<style scoped>\n",
              "    .dataframe tbody tr th:only-of-type {\n",
              "        vertical-align: middle;\n",
              "    }\n",
              "\n",
              "    .dataframe tbody tr th {\n",
              "        vertical-align: top;\n",
              "    }\n",
              "\n",
              "    .dataframe thead th {\n",
              "        text-align: right;\n",
              "    }\n",
              "</style>\n",
              "<table border=\"1\" class=\"dataframe\">\n",
              "  <thead>\n",
              "    <tr style=\"text-align: right;\">\n",
              "      <th></th>\n",
              "      <th>patientId</th>\n",
              "      <th>x</th>\n",
              "      <th>y</th>\n",
              "      <th>width</th>\n",
              "      <th>height</th>\n",
              "      <th>Target</th>\n",
              "    </tr>\n",
              "  </thead>\n",
              "  <tbody>\n",
              "    <tr>\n",
              "      <th>0</th>\n",
              "      <td>0004cfab-14fd-4e49-80ba-63a80b6bddd6</td>\n",
              "      <td>NaN</td>\n",
              "      <td>NaN</td>\n",
              "      <td>NaN</td>\n",
              "      <td>NaN</td>\n",
              "      <td>0</td>\n",
              "    </tr>\n",
              "    <tr>\n",
              "      <th>1</th>\n",
              "      <td>00313ee0-9eaa-42f4-b0ab-c148ed3241cd</td>\n",
              "      <td>NaN</td>\n",
              "      <td>NaN</td>\n",
              "      <td>NaN</td>\n",
              "      <td>NaN</td>\n",
              "      <td>0</td>\n",
              "    </tr>\n",
              "    <tr>\n",
              "      <th>2</th>\n",
              "      <td>00322d4d-1c29-4943-afc9-b6754be640eb</td>\n",
              "      <td>NaN</td>\n",
              "      <td>NaN</td>\n",
              "      <td>NaN</td>\n",
              "      <td>NaN</td>\n",
              "      <td>0</td>\n",
              "    </tr>\n",
              "    <tr>\n",
              "      <th>3</th>\n",
              "      <td>003d8fa0-6bf1-40ed-b54c-ac657f8495c5</td>\n",
              "      <td>NaN</td>\n",
              "      <td>NaN</td>\n",
              "      <td>NaN</td>\n",
              "      <td>NaN</td>\n",
              "      <td>0</td>\n",
              "    </tr>\n",
              "    <tr>\n",
              "      <th>4</th>\n",
              "      <td>00436515-870c-4b36-a041-de91049b9ab4</td>\n",
              "      <td>264.0</td>\n",
              "      <td>152.0</td>\n",
              "      <td>213.0</td>\n",
              "      <td>379.0</td>\n",
              "      <td>1</td>\n",
              "    </tr>\n",
              "  </tbody>\n",
              "</table>\n",
              "</div>"
            ],
            "text/plain": [
              "                              patientId      x      y  width  height  Target\n",
              "0  0004cfab-14fd-4e49-80ba-63a80b6bddd6    NaN    NaN    NaN     NaN       0\n",
              "1  00313ee0-9eaa-42f4-b0ab-c148ed3241cd    NaN    NaN    NaN     NaN       0\n",
              "2  00322d4d-1c29-4943-afc9-b6754be640eb    NaN    NaN    NaN     NaN       0\n",
              "3  003d8fa0-6bf1-40ed-b54c-ac657f8495c5    NaN    NaN    NaN     NaN       0\n",
              "4  00436515-870c-4b36-a041-de91049b9ab4  264.0  152.0  213.0   379.0       1"
            ]
          },
          "metadata": {
            "tags": []
          },
          "execution_count": 30
        }
      ]
    },
    {
      "cell_type": "code",
      "metadata": {
        "colab": {
          "base_uri": "https://localhost:8080/"
        },
        "id": "L6kpid6DytNM",
        "outputId": "df360160-340f-4885-e204-9c3632f9799b"
      },
      "source": [
        "image_fps_list, image_annotations  = parse_dataset(TRAIN_DATA_DIR,annotations)\r\n",
        "print(len(image_fps_list))\r\n",
        "print(image_fps_list[0])"
      ],
      "execution_count": 31,
      "outputs": [
        {
          "output_type": "stream",
          "text": [
            "26684\n",
            "f9b9749d-3509-4678-bffa-e2c60a3f8384.dcm\n"
          ],
          "name": "stdout"
        }
      ]
    },
    {
      "cell_type": "code",
      "metadata": {
        "colab": {
          "base_uri": "https://localhost:8080/"
        },
        "id": "sDsu77o5bKTw",
        "outputId": "ac072b20-fade-40d1-bb39-21a068efc9fc"
      },
      "source": [
        "TRAIN_IMAGE_COUNT =1000\r\n",
        "partial_train_fps = image_fps_list[:TRAIN_IMAGE_COUNT]\r\n",
        "sorted(image_fps_list)\r\n",
        "random.seed(42)\r\n",
        "random.shuffle(image_fps_list)\r\n",
        "\r\n",
        "validation_split = 0.1 #xhb 20190525\r\n",
        "split_index = int((1 - validation_split) * TRAIN_IMAGE_COUNT)\r\n",
        "\r\n",
        "image_fps_train = partial_train_fps[:split_index]\r\n",
        "image_fps_val = partial_train_fps[split_index:]\r\n",
        "\r\n",
        "print(len(image_fps_train), len(image_fps_val))"
      ],
      "execution_count": 47,
      "outputs": [
        {
          "output_type": "stream",
          "text": [
            "900 100\n"
          ],
          "name": "stdout"
        }
      ]
    },
    {
      "cell_type": "code",
      "metadata": {
        "id": "iVE0vwDf4XwV"
      },
      "source": [
        "import numpy as np\r\n",
        "import keras\r\n",
        "import os\r\n",
        "import pydicom\r\n",
        "from skimage import io\r\n",
        "from skimage import measure\r\n",
        "from skimage.transform import resize\r\n",
        "class DataGenerator(keras.utils.Sequence):\r\n",
        "    \r\n",
        "    def __init__(self, folder, filenames, pneumonia_locations=None, batch_size=32, image_size=256, shuffle=True, augment=False, predict=False):\r\n",
        "        self.folder = folder\r\n",
        "        self.filenames = filenames\r\n",
        "        self.pneumonia_locations = pneumonia_locations\r\n",
        "        self.batch_size = batch_size\r\n",
        "        self.image_size = image_size\r\n",
        "        self.shuffle = shuffle\r\n",
        "        self.augment = augment\r\n",
        "        self.predict = predict\r\n",
        "        self.on_epoch_end()\r\n",
        "        \r\n",
        "    def __load__(self, filename):\r\n",
        "        # load dicom file as numpy array\r\n",
        "        img = pydicom.dcmread(os.path.join(self.folder, filename)).pixel_array\r\n",
        "        # create empty mask\r\n",
        "        msk = np.zeros(img.shape)\r\n",
        "        # get filename without extension\r\n",
        "        filename = filename.split('.')[0]\r\n",
        "        # if image contains pneumonia\r\n",
        "        if filename in pneumonia_locations:\r\n",
        "            # loop through pneumonia\r\n",
        "            for location in pneumonia_locations[filename]:\r\n",
        "                # add 1's at the location of the pneumonia\r\n",
        "                x, y, w, h = location\r\n",
        "                msk[y:y+h, x:x+w] = 1\r\n",
        "        # if augment then horizontal flip half the time\r\n",
        "        if self.augment and random.random() > 0.5:\r\n",
        "            img = np.fliplr(img)\r\n",
        "            msk = np.fliplr(msk)\r\n",
        "        # resize both image and mask\r\n",
        "        img = resize(img, (self.image_size, self.image_size), mode='reflect')\r\n",
        "        msk = resize(msk, (self.image_size, self.image_size), mode='reflect') > 0.5\r\n",
        "        # add trailing channel dimension\r\n",
        "        img = np.expand_dims(img, -1)\r\n",
        "        msk = np.expand_dims(msk, -1)\r\n",
        "        return img, msk.reshape(-1)\r\n",
        "    \r\n",
        "    def __loadpredict__(self, filename):\r\n",
        "        # load dicom file as numpy array\r\n",
        "        img = pydicom.dcmread(os.path.join(self.folder, filename)).pixel_array\r\n",
        "        # resize image\r\n",
        "        img = resize(img, (self.image_size, self.image_size), mode='reflect')\r\n",
        "        # add trailing channel dimension\r\n",
        "        img = np.expand_dims(img, -1)\r\n",
        "        return img\r\n",
        "        \r\n",
        "    def __getitem__(self, index):\r\n",
        "        # select batch\r\n",
        "        filenames = self.filenames[index*self.batch_size:(index+1)*self.batch_size]\r\n",
        "        # predict mode: return images and filenames\r\n",
        "        if self.predict:\r\n",
        "            # load files\r\n",
        "            imgs = [self.__loadpredict__(filename) for filename in filenames]\r\n",
        "            # create numpy batch\r\n",
        "            imgs = np.array(imgs)\r\n",
        "            return imgs, filenames\r\n",
        "        # train mode: return images and masks\r\n",
        "        else:\r\n",
        "            # load files\r\n",
        "            items = [self.__load__(filename) for filename in filenames]\r\n",
        "            # unzip images and masks\r\n",
        "            imgs, msks = zip(*items)\r\n",
        "            # create numpy batch\r\n",
        "            imgs = np.array(imgs)\r\n",
        "            msks = np.array(msks)\r\n",
        "            return imgs, msks\r\n",
        "        \r\n",
        "    def on_epoch_end(self):\r\n",
        "        if self.shuffle:\r\n",
        "            random.shuffle(self.filenames)\r\n",
        "        \r\n",
        "    def __len__(self):\r\n",
        "        if self.predict:\r\n",
        "            # return everything\r\n",
        "            return int(np.ceil(len(self.filenames) / self.batch_size))\r\n",
        "        else:\r\n",
        "            # return full batches only\r\n",
        "            return int(len(self.filenames) / self.batch_size)\r\n"
      ],
      "execution_count": 48,
      "outputs": []
    },
    {
      "cell_type": "code",
      "metadata": {
        "id": "4tS-bpFL6Wj7"
      },
      "source": [
        "import csv\r\n",
        "def load(train_label_file_path,filenames):\r\n",
        "  pneumonia_locations = {}\r\n",
        "  # load table\r\n",
        "  with open(train_label_file_path, mode='r') as infile:\r\n",
        "      # open reader\r\n",
        "      reader = csv.reader(infile)\r\n",
        "      # skip header\r\n",
        "      next(reader, None)\r\n",
        "      # loop through rows\r\n",
        "      for rows in reader:\r\n",
        "          # retrieve information\r\n",
        "          filename = rows[0]\r\n",
        "          if(any(ele==(filename+'.dcm')for ele in filenames)!= True):\r\n",
        "            continue\r\n",
        "          location = rows[1:5]\r\n",
        "          pneumonia = rows[5]\r\n",
        "          # if row contains pneumonia add label to dictionary\r\n",
        "          # which contains a list of pneumonia locations per filename\r\n",
        "          if pneumonia == '1':\r\n",
        "              # convert string to float to int\r\n",
        "              location = [int(float(i)) for i in location]\r\n",
        "              # save pneumonia location in dictionary\r\n",
        "              if filename in pneumonia_locations:\r\n",
        "                  pneumonia_locations[filename].append(location)\r\n",
        "              else:\r\n",
        "                  pneumonia_locations[filename] = [location]\r\n",
        "  return pneumonia_locations"
      ],
      "execution_count": 49,
      "outputs": []
    },
    {
      "cell_type": "code",
      "metadata": {
        "id": "HSKiokTmfNsQ",
        "colab": {
          "base_uri": "https://localhost:8080/"
        },
        "outputId": "e491d88a-f1bd-4aaf-b76c-e643732f32ca"
      },
      "source": [
        "pneumonia_locations = load(LABEL_DIR,image_fps_list)\r\n",
        "TARGET_IMAGE_SIZE = 128\r\n",
        "pneumonia_locations_train = load(LABEL_DIR, image_fps_train)\r\n",
        "pneumonia_locations_val = load(LABEL_DIR, image_fps_val)\r\n",
        "print(len(pneumonia_locations))\r\n",
        "print(len(pneumonia_locations_train))\r\n",
        "print(len(pneumonia_locations_val))\r\n",
        "\r\n",
        "# prepare the training dataset\r\n",
        "train_generator = DataGenerator(TRAIN_DATA_DIR, image_fps_train, pneumonia_locations_train,32, TARGET_IMAGE_SIZE)\r\n",
        "\r\n",
        "validation_generator = DataGenerator(TRAIN_DATA_DIR, image_fps_val, pneumonia_locations_val,32, TARGET_IMAGE_SIZE)"
      ],
      "execution_count": 50,
      "outputs": [
        {
          "output_type": "stream",
          "text": [
            "6012\n",
            "203\n",
            "25\n"
          ],
          "name": "stdout"
        }
      ]
    },
    {
      "cell_type": "code",
      "metadata": {
        "id": "f4NgAmymk40_"
      },
      "source": [
        "from tensorflow.keras.applications.vgg16 import VGG16\r\n",
        "import tensorflow as tf \r\n",
        "from tensorflow.keras.preprocessing.image import ImageDataGenerator \r\n",
        "from tensorflow.keras import layers \r\n",
        "from tensorflow.keras import Model \r\n",
        "\r\n",
        "img_input = tf.keras.layers.Input(shape=(TARGET_IMAGE_SIZE, TARGET_IMAGE_SIZE,1))\r\n",
        "img_conc = tf.keras.layers.Concatenate()([img_input, img_input, img_input])  \r\n",
        "\r\n",
        "base_model = VGG16( # Shape of our images\r\n",
        "include_top = False, # Leave out the last fully connected layer\r\n",
        "weights = 'imagenet', input_tensor=img_conc)"
      ],
      "execution_count": 51,
      "outputs": []
    },
    {
      "cell_type": "code",
      "metadata": {
        "id": "20LfKMu8k6al"
      },
      "source": [
        "for layer in base_model.layers:\r\n",
        "    layer.trainable = False"
      ],
      "execution_count": 52,
      "outputs": []
    },
    {
      "cell_type": "code",
      "metadata": {
        "id": "ABfvSckIlcF4"
      },
      "source": [
        "# Flatten the output layer to 1 dimension\r\n",
        "x = layers.Flatten()(base_model.output)\r\n",
        "\r\n",
        "# Add a fully connected layer with 512 hidden units and ReLU activation\r\n",
        "x = layers.Dense(512, activation='relu')(x)\r\n",
        "\r\n",
        "# Add a dropout rate of 0.5\r\n",
        "x = layers.Dropout(0.5)(x)\r\n",
        "\r\n",
        "# Add a final sigmoid layer for classification\r\n",
        "x = layers.Dense(1, activation='sigmoid')(x)\r\n",
        "\r\n",
        "model = tf.keras.models.Model(base_model.input, x)\r\n",
        "\r\n",
        "model.compile(optimizer = tf.keras.optimizers.RMSprop(lr=0.0001), loss = 'binary_crossentropy',metrics = ['acc'])"
      ],
      "execution_count": 53,
      "outputs": []
    },
    {
      "cell_type": "code",
      "metadata": {
        "colab": {
          "base_uri": "https://localhost:8080/"
        },
        "id": "ilvOqbgzoCyl",
        "outputId": "f2522de7-9eef-4005-8ddc-c5e6c389fd04"
      },
      "source": [
        "model.summary()"
      ],
      "execution_count": 54,
      "outputs": [
        {
          "output_type": "stream",
          "text": [
            "Model: \"functional_11\"\n",
            "__________________________________________________________________________________________________\n",
            "Layer (type)                    Output Shape         Param #     Connected to                     \n",
            "==================================================================================================\n",
            "input_3 (InputLayer)            [(None, 128, 128, 1) 0                                            \n",
            "__________________________________________________________________________________________________\n",
            "concatenate_2 (Concatenate)     (None, 128, 128, 3)  0           input_3[0][0]                    \n",
            "                                                                 input_3[0][0]                    \n",
            "                                                                 input_3[0][0]                    \n",
            "__________________________________________________________________________________________________\n",
            "block1_conv1 (Conv2D)           (None, 128, 128, 64) 1792        concatenate_2[0][0]              \n",
            "__________________________________________________________________________________________________\n",
            "block1_conv2 (Conv2D)           (None, 128, 128, 64) 36928       block1_conv1[0][0]               \n",
            "__________________________________________________________________________________________________\n",
            "block1_pool (MaxPooling2D)      (None, 64, 64, 64)   0           block1_conv2[0][0]               \n",
            "__________________________________________________________________________________________________\n",
            "block2_conv1 (Conv2D)           (None, 64, 64, 128)  73856       block1_pool[0][0]                \n",
            "__________________________________________________________________________________________________\n",
            "block2_conv2 (Conv2D)           (None, 64, 64, 128)  147584      block2_conv1[0][0]               \n",
            "__________________________________________________________________________________________________\n",
            "block2_pool (MaxPooling2D)      (None, 32, 32, 128)  0           block2_conv2[0][0]               \n",
            "__________________________________________________________________________________________________\n",
            "block3_conv1 (Conv2D)           (None, 32, 32, 256)  295168      block2_pool[0][0]                \n",
            "__________________________________________________________________________________________________\n",
            "block3_conv2 (Conv2D)           (None, 32, 32, 256)  590080      block3_conv1[0][0]               \n",
            "__________________________________________________________________________________________________\n",
            "block3_conv3 (Conv2D)           (None, 32, 32, 256)  590080      block3_conv2[0][0]               \n",
            "__________________________________________________________________________________________________\n",
            "block3_pool (MaxPooling2D)      (None, 16, 16, 256)  0           block3_conv3[0][0]               \n",
            "__________________________________________________________________________________________________\n",
            "block4_conv1 (Conv2D)           (None, 16, 16, 512)  1180160     block3_pool[0][0]                \n",
            "__________________________________________________________________________________________________\n",
            "block4_conv2 (Conv2D)           (None, 16, 16, 512)  2359808     block4_conv1[0][0]               \n",
            "__________________________________________________________________________________________________\n",
            "block4_conv3 (Conv2D)           (None, 16, 16, 512)  2359808     block4_conv2[0][0]               \n",
            "__________________________________________________________________________________________________\n",
            "block4_pool (MaxPooling2D)      (None, 8, 8, 512)    0           block4_conv3[0][0]               \n",
            "__________________________________________________________________________________________________\n",
            "block5_conv1 (Conv2D)           (None, 8, 8, 512)    2359808     block4_pool[0][0]                \n",
            "__________________________________________________________________________________________________\n",
            "block5_conv2 (Conv2D)           (None, 8, 8, 512)    2359808     block5_conv1[0][0]               \n",
            "__________________________________________________________________________________________________\n",
            "block5_conv3 (Conv2D)           (None, 8, 8, 512)    2359808     block5_conv2[0][0]               \n",
            "__________________________________________________________________________________________________\n",
            "block5_pool (MaxPooling2D)      (None, 4, 4, 512)    0           block5_conv3[0][0]               \n",
            "__________________________________________________________________________________________________\n",
            "flatten_5 (Flatten)             (None, 8192)         0           block5_pool[0][0]                \n",
            "__________________________________________________________________________________________________\n",
            "dense_10 (Dense)                (None, 512)          4194816     flatten_5[0][0]                  \n",
            "__________________________________________________________________________________________________\n",
            "dropout_5 (Dropout)             (None, 512)          0           dense_10[0][0]                   \n",
            "__________________________________________________________________________________________________\n",
            "dense_11 (Dense)                (None, 1)            513         dropout_5[0][0]                  \n",
            "==================================================================================================\n",
            "Total params: 18,910,017\n",
            "Trainable params: 4,195,329\n",
            "Non-trainable params: 14,714,688\n",
            "__________________________________________________________________________________________________\n"
          ],
          "name": "stdout"
        }
      ]
    },
    {
      "cell_type": "code",
      "metadata": {
        "colab": {
          "base_uri": "https://localhost:8080/"
        },
        "id": "Wl_qkMg9m8Nk",
        "outputId": "41649f43-75af-48a7-cf46-7be6afc0ee05"
      },
      "source": [
        "model.fit_generator(generator=train_generator, validation_data = validation_generator,  epochs = 10, workers=4)"
      ],
      "execution_count": 56,
      "outputs": [
        {
          "output_type": "stream",
          "text": [
            "Epoch 1/10\n",
            "28/28 [==============================] - 283s 10s/step - loss: 0.1081 - acc: 0.9741 - val_loss: 0.1129 - val_acc: 0.9692\n",
            "Epoch 2/10\n",
            "28/28 [==============================] - 279s 10s/step - loss: 0.1071 - acc: 0.9739 - val_loss: 0.1293 - val_acc: 0.9682\n",
            "Epoch 3/10\n",
            "28/28 [==============================] - 283s 10s/step - loss: 0.1026 - acc: 0.9728 - val_loss: 0.1336 - val_acc: 0.9663\n",
            "Epoch 4/10\n",
            "28/28 [==============================] - 282s 10s/step - loss: 0.1019 - acc: 0.9738 - val_loss: 0.1209 - val_acc: 0.9672\n",
            "Epoch 5/10\n",
            "28/28 [==============================] - 285s 10s/step - loss: 0.0978 - acc: 0.9743 - val_loss: 0.1216 - val_acc: 0.9666\n",
            "Epoch 6/10\n",
            "28/28 [==============================] - 280s 10s/step - loss: 0.0968 - acc: 0.9740 - val_loss: 0.1200 - val_acc: 0.9663\n",
            "Epoch 7/10\n",
            "28/28 [==============================] - 280s 10s/step - loss: 0.0994 - acc: 0.9736 - val_loss: 0.1337 - val_acc: 0.9673\n",
            "Epoch 8/10\n",
            "28/28 [==============================] - 281s 10s/step - loss: 0.0943 - acc: 0.9741 - val_loss: 0.1281 - val_acc: 0.9669\n",
            "Epoch 9/10\n",
            "28/28 [==============================] - 279s 10s/step - loss: 0.0955 - acc: 0.9718 - val_loss: 0.1097 - val_acc: 0.9698\n",
            "Epoch 10/10\n",
            "28/28 [==============================] - 277s 10s/step - loss: 0.0934 - acc: 0.9741 - val_loss: 0.1443 - val_acc: 0.9663\n"
          ],
          "name": "stdout"
        },
        {
          "output_type": "execute_result",
          "data": {
            "text/plain": [
              "<tensorflow.python.keras.callbacks.History at 0x7f187160c550>"
            ]
          },
          "metadata": {
            "tags": []
          },
          "execution_count": 56
        }
      ]
    },
    {
      "cell_type": "code",
      "metadata": {
        "id": "oLnGheSynepp"
      },
      "source": [
        "model.save('/content/drive/MyDrive/CapstoneProject/model_h5/vgg16.h5')"
      ],
      "execution_count": 58,
      "outputs": []
    },
    {
      "cell_type": "code",
      "metadata": {
        "colab": {
          "base_uri": "https://localhost:8080/",
          "height": 1000
        },
        "id": "GrSKHis07cs9",
        "outputId": "c5034bde-9fbe-43ce-9788-ce91e4501046"
      },
      "source": [
        "for imgs, msks in validation_generator:\r\n",
        "    # predict batch of images\r\n",
        "    preds = model.predict(imgs)\r\n",
        "    # create figure\r\n",
        "    f, axarr = plt.subplots(4, 8, figsize=(20,15))\r\n",
        "    axarr = axarr.ravel()\r\n",
        "    axidx = 0\r\n",
        "    # loop through batch\r\n",
        "    for img, msk, pred in zip(imgs, msks, preds):\r\n",
        "        # plot image\r\n",
        "        axarr[axidx].imshow(img[:, :, 0])\r\n",
        "        msk_reshape = np.reshape(msk, img.shape)\r\n",
        "        print(msk_reshape)\r\n",
        "        # threshold true mask\r\n",
        "        comp = msk[:, :] > 0.5\r\n",
        "        # apply connected components\r\n",
        "        comp = measure.label(comp)\r\n",
        "        # apply bounding boxes\r\n",
        "        predictionString = ''\r\n",
        "        for region in measure.regionprops(comp):\r\n",
        "            # retrieve x, y, height and width\r\n",
        "            y, x, y2, x2 = region.bbox\r\n",
        "            height = y2 - y\r\n",
        "            width = x2 - x\r\n",
        "            axarr[axidx].add_patch(patches.Rectangle((x,y),width,height,linewidth=2,edgecolor='b',facecolor='none'))\r\n",
        "        # threshold predicted mask\r\n",
        "        comp = pred[:, :, 0] > 0.5\r\n",
        "        # apply connected components\r\n",
        "        comp = measure.label(comp)\r\n",
        "        # apply bounding boxes\r\n",
        "        predictionString = ''\r\n",
        "        for region in measure.regionprops(comp):\r\n",
        "            # retrieve x, y, height and width\r\n",
        "            y, x, y2, x2 = region.bbox\r\n",
        "            height = y2 - y\r\n",
        "            width = x2 - x\r\n",
        "            axarr[axidx].add_patch(patches.Rectangle((x,y),width,height,linewidth=2,edgecolor='r',facecolor='none'))\r\n",
        "        axidx += 1\r\n",
        "    plt.show()\r\n",
        "    # only plot one batch\r\n",
        "    break"
      ],
      "execution_count": 69,
      "outputs": [
        {
          "output_type": "stream",
          "text": [
            "[[[False]\n",
            "  [False]\n",
            "  [False]\n",
            "  ...\n",
            "  [False]\n",
            "  [False]\n",
            "  [False]]\n",
            "\n",
            " [[False]\n",
            "  [False]\n",
            "  [False]\n",
            "  ...\n",
            "  [False]\n",
            "  [False]\n",
            "  [False]]\n",
            "\n",
            " [[False]\n",
            "  [False]\n",
            "  [False]\n",
            "  ...\n",
            "  [False]\n",
            "  [False]\n",
            "  [False]]\n",
            "\n",
            " ...\n",
            "\n",
            " [[False]\n",
            "  [False]\n",
            "  [False]\n",
            "  ...\n",
            "  [False]\n",
            "  [False]\n",
            "  [False]]\n",
            "\n",
            " [[False]\n",
            "  [False]\n",
            "  [False]\n",
            "  ...\n",
            "  [False]\n",
            "  [False]\n",
            "  [False]]\n",
            "\n",
            " [[False]\n",
            "  [False]\n",
            "  [False]\n",
            "  ...\n",
            "  [False]\n",
            "  [False]\n",
            "  [False]]]\n"
          ],
          "name": "stdout"
        },
        {
          "output_type": "error",
          "ename": "IndexError",
          "evalue": "ignored",
          "traceback": [
            "\u001b[0;31m---------------------------------------------------------------------------\u001b[0m",
            "\u001b[0;31mIndexError\u001b[0m                                Traceback (most recent call last)",
            "\u001b[0;32m<ipython-input-69-505e95582a0c>\u001b[0m in \u001b[0;36m<module>\u001b[0;34m()\u001b[0m\n\u001b[1;32m     13\u001b[0m         \u001b[0mprint\u001b[0m\u001b[0;34m(\u001b[0m\u001b[0mmsk_reshape\u001b[0m\u001b[0;34m)\u001b[0m\u001b[0;34m\u001b[0m\u001b[0;34m\u001b[0m\u001b[0m\n\u001b[1;32m     14\u001b[0m         \u001b[0;31m# threshold true mask\u001b[0m\u001b[0;34m\u001b[0m\u001b[0;34m\u001b[0m\u001b[0;34m\u001b[0m\u001b[0m\n\u001b[0;32m---> 15\u001b[0;31m         \u001b[0mcomp\u001b[0m \u001b[0;34m=\u001b[0m \u001b[0mmsk\u001b[0m\u001b[0;34m[\u001b[0m\u001b[0;34m:\u001b[0m\u001b[0;34m,\u001b[0m \u001b[0;34m:\u001b[0m\u001b[0;34m]\u001b[0m \u001b[0;34m>\u001b[0m \u001b[0;36m0.5\u001b[0m\u001b[0;34m\u001b[0m\u001b[0;34m\u001b[0m\u001b[0m\n\u001b[0m\u001b[1;32m     16\u001b[0m         \u001b[0;31m# apply connected components\u001b[0m\u001b[0;34m\u001b[0m\u001b[0;34m\u001b[0m\u001b[0;34m\u001b[0m\u001b[0m\n\u001b[1;32m     17\u001b[0m         \u001b[0mcomp\u001b[0m \u001b[0;34m=\u001b[0m \u001b[0mmeasure\u001b[0m\u001b[0;34m.\u001b[0m\u001b[0mlabel\u001b[0m\u001b[0;34m(\u001b[0m\u001b[0mcomp\u001b[0m\u001b[0;34m)\u001b[0m\u001b[0;34m\u001b[0m\u001b[0;34m\u001b[0m\u001b[0m\n",
            "\u001b[0;31mIndexError\u001b[0m: too many indices for array"
          ]
        },
        {
          "output_type": "display_data",
          "data": {
            "image/png": "[encoded data removed]",
            "text/plain": [
              "<Figure size 1440x1080 with 32 Axes>"
            ]
          },
          "metadata": {
            "tags": [],
            "needs_background": "light"
          }
        }
      ]
    },
    {
      "cell_type": "code",
      "metadata": {
        "id": "PC8i4Ulu00kK"
      },
      "source": [
        "image_fps_test = get_file_list(TEST_DATA_DIR)\r\n",
        "test_data_gen = DataGenerator(TEST_DATA_DIR, image_fps_test[:10], None, batch_size=25, image_size=TARGET_IMAGE_SIZE, shuffle=False, predict=True)"
      ],
      "execution_count": 62,
      "outputs": []
    },
    {
      "cell_type": "code",
      "metadata": {
        "colab": {
          "base_uri": "https://localhost:8080/",
          "height": 231
        },
        "id": "yKS4_q3vc-Lz",
        "outputId": "e6d4c4f5-2b10-48a5-b26f-215a6d3fef4a"
      },
      "source": [
        "# create submission dictionary\r\n",
        "submission_dict = {}\r\n",
        "# loop through testset\r\n",
        "for imgs, filenames in test_data_gen:\r\n",
        "    # predict batch of images\r\n",
        "    preds = model.predict(imgs)\r\n",
        "    # loop through batch\r\n",
        "    for pred, filename in zip(preds, filenames):\r\n",
        "        # resize predicted mask\r\n",
        "        pred = resize(pred, (1024, 1024), mode='reflect')\r\n",
        "        # threshold predicted mask\r\n",
        "        comp = pred[:, :, 0] > 0.5\r\n",
        "        # apply connected components\r\n",
        "        comp = measure.label(comp)\r\n",
        "        # apply bounding boxes\r\n",
        "        predictionString = ''\r\n",
        "        for region in measure.regionprops(comp):\r\n",
        "            # retrieve x, y, height and width\r\n",
        "            y, x, y2, x2 = region.bbox\r\n",
        "            height = y2 - y\r\n",
        "            width = x2 - x\r\n",
        "            # proxy for confidence score\r\n",
        "            conf = np.mean(pred[y:y+height, x:x+width])\r\n",
        "            # add to predictionString\r\n",
        "            predictionString += str(conf) + ' ' + str(x) + ' ' + str(y) + ' ' + str(width) + ' ' + str(height) + ' '\r\n",
        "        # add filename and predictionString to dictionary\r\n",
        "        filename = filename.split('.')[0]\r\n",
        "        submission_dict[filename] = predictionString\r\n",
        "    # stop if we've got them all\r\n",
        "    if len(submission_dict) >= len(test_filenames):\r\n",
        "        break\r\n",
        "\r\n",
        "# save dictionary as csv file\r\n",
        "sub = pd.DataFrame.from_dict(submission_dict,orient='index')\r\n",
        "sub.index.names = ['patientId']\r\n",
        "sub.columns = ['PredictionString']\r\n",
        "sub.to_csv('submission.csv')"
      ],
      "execution_count": 64,
      "outputs": [
        {
          "output_type": "error",
          "ename": "IndexError",
          "evalue": "ignored",
          "traceback": [
            "\u001b[0;31m---------------------------------------------------------------------------\u001b[0m",
            "\u001b[0;31mIndexError\u001b[0m                                Traceback (most recent call last)",
            "\u001b[0;32m<ipython-input-64-378d3ba3c33c>\u001b[0m in \u001b[0;36m<module>\u001b[0;34m()\u001b[0m\n\u001b[1;32m     10\u001b[0m         \u001b[0mpred\u001b[0m \u001b[0;34m=\u001b[0m \u001b[0mresize\u001b[0m\u001b[0;34m(\u001b[0m\u001b[0mpred\u001b[0m\u001b[0;34m,\u001b[0m \u001b[0;34m(\u001b[0m\u001b[0;36m1024\u001b[0m\u001b[0;34m,\u001b[0m \u001b[0;36m1024\u001b[0m\u001b[0;34m)\u001b[0m\u001b[0;34m,\u001b[0m \u001b[0mmode\u001b[0m\u001b[0;34m=\u001b[0m\u001b[0;34m'reflect'\u001b[0m\u001b[0;34m)\u001b[0m\u001b[0;34m\u001b[0m\u001b[0;34m\u001b[0m\u001b[0m\n\u001b[1;32m     11\u001b[0m         \u001b[0;31m# threshold predicted mask\u001b[0m\u001b[0;34m\u001b[0m\u001b[0;34m\u001b[0m\u001b[0;34m\u001b[0m\u001b[0m\n\u001b[0;32m---> 12\u001b[0;31m         \u001b[0mcomp\u001b[0m \u001b[0;34m=\u001b[0m \u001b[0mpred\u001b[0m\u001b[0;34m[\u001b[0m\u001b[0;34m:\u001b[0m\u001b[0;34m,\u001b[0m \u001b[0;34m:\u001b[0m\u001b[0;34m,\u001b[0m \u001b[0;36m0\u001b[0m\u001b[0;34m]\u001b[0m \u001b[0;34m>\u001b[0m \u001b[0;36m0.5\u001b[0m\u001b[0;34m\u001b[0m\u001b[0;34m\u001b[0m\u001b[0m\n\u001b[0m\u001b[1;32m     13\u001b[0m         \u001b[0;31m# apply connected components\u001b[0m\u001b[0;34m\u001b[0m\u001b[0;34m\u001b[0m\u001b[0;34m\u001b[0m\u001b[0m\n\u001b[1;32m     14\u001b[0m         \u001b[0mcomp\u001b[0m \u001b[0;34m=\u001b[0m \u001b[0mmeasure\u001b[0m\u001b[0;34m.\u001b[0m\u001b[0mlabel\u001b[0m\u001b[0;34m(\u001b[0m\u001b[0mcomp\u001b[0m\u001b[0;34m)\u001b[0m\u001b[0;34m\u001b[0m\u001b[0;34m\u001b[0m\u001b[0m\n",
            "\u001b[0;31mIndexError\u001b[0m: too many indices for array"
          ]
        }
      ]
    },
    {
      "cell_type": "code",
      "metadata": {
        "colab": {
          "base_uri": "https://localhost:8080/"
        },
        "id": "mdKQSC-1c-67",
        "outputId": "5e0678ed-881c-442c-afbf-c3e170768796"
      },
      "source": [
        "for imgs, filenames in test_data_gen:\r\n",
        "    # predict batch of images\r\n",
        "    preds = model.predict(imgs)\r\n",
        "    print(preds)\r\n",
        "    break"
      ],
      "execution_count": 60,
      "outputs": [
        {
          "output_type": "stream",
          "text": [
            "[[0.00198665]\n",
            " [0.00020704]\n",
            " [0.00079742]\n",
            " [0.00172731]\n",
            " [0.00066206]\n",
            " [0.00235927]\n",
            " [0.00887623]\n",
            " [0.00542057]\n",
            " [0.00134203]\n",
            " [0.00304875]\n",
            " [0.00422502]\n",
            " [0.00091073]\n",
            " [0.02653593]\n",
            " [0.00158665]\n",
            " [0.00307205]\n",
            " [0.00152773]\n",
            " [0.00525868]\n",
            " [0.01263916]\n",
            " [0.00240132]\n",
            " [0.00117838]\n",
            " [0.00154483]\n",
            " [0.00078928]\n",
            " [0.0114581 ]\n",
            " [0.01379246]\n",
            " [0.03933084]]\n"
          ],
          "name": "stdout"
        }
      ]
    }
  ]
}